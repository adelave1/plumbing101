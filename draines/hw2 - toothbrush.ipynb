{
 "cells": [
  {
   "cell_type": "code",
   "execution_count": 65,
   "metadata": {
    "collapsed": false
   },
   "outputs": [],
   "source": [
    "import numpy as np\n",
    "import matplotlib.pyplot as plt\n",
    "from astropy import constants as const"
   ]
  },
  {
   "cell_type": "code",
   "execution_count": 66,
   "metadata": {
    "collapsed": false
   },
   "outputs": [],
   "source": [
    "n_hydrogen = 4000 # density / cm^3\n",
    "h = 6.62e-21\n",
    "\n",
    "# Defining the NII transition line collisional cooling rate\n",
    "# The mean collision strength is 2.99\n",
    "# There is 20% nitrogen relative to hydrogen\n",
    "def N2(temp):\n",
    "    n_nion = (.80)*n_hydrogen\n",
    "    e_diff = 1.90\n",
    "    degeneracy = (3) * (2)\n",
    "    tempt = (temp/1e4)**(-0.5)\n",
    "    omega = 2.99\n",
    "    n_e = n_hydrogen # Check this, cause idk.\n",
    "    q_coeff = 8.629e-8 * np.exp(-e_diff/(h*temp))*tempt*omega/degeneracy\n",
    "    L = q_coeff*e_diff\n",
    "    return L/(n_nion * n_hydrogen)\n",
    "    \n",
    "# Defining the OII transition line collisional cooling rate.\n",
    "# The mean collision strength is 1.47\n",
    "def O2(temp):\n",
    "    n_oion = (.80)*n_hydrogen\n",
    "    e_diff = 3.32\n",
    "    degeneracy = (4) * (2)\n",
    "    tempt = (temp/1e4)**(-0.5)\n",
    "    omega = 1.47\n",
    "    n_e = n_hydrogen # Check this, cause idk.\n",
    "    q_coeff = 8.629e-8 * np.exp(-e_diff/(h *temp))*tempt*omega/degeneracy\n",
    "    L = q_coeff*e_diff\n",
    "    return L/(n_oion * n_hydrogen)\n",
    "    \n",
    "# Defining the OIII transition line collisional cooling rate.\n",
    "# The mean collision strength is 2.50\n",
    "def O3(temp):\n",
    "    n_odoublyion = (.20)*n_hydrogen\n",
    "    e_diff = 2.51\n",
    "    degeneracy = (3) * (2)\n",
    "    tempt = (temp/1e4)**(-0.5)\n",
    "    omega = 2.50\n",
    "    n_e = n_hydrogen # Check this, cause idk.\n",
    "    q_coeff = 8.629e-8 * np.exp(-e_diff/(h * temp))*tempt*omega/degeneracy\n",
    "    L = q_coeff*e_diff\n",
    "    return L/(n_odoublyion * n_hydrogen)\n",
    "    \n",
    "# Defining the Bremsstrahlung, the free-free emission.\n",
    "def ff(temp):\n",
    "    coeff = 1.42e-25\n",
    "    gaunt = 1.3\n",
    "    tempt = (temp/10e4)**(0.5)\n",
    "    return coeff*tempt*gaunt\n",
    "\n",
    "# Defining the cooling rate per unit volume.\n",
    "def coolRate(temp):\n",
    "    return N2(temp) + O2(temp) + O3(temp) + ff(temp)"
   ]
  },
  {
   "cell_type": "code",
   "execution_count": 81,
   "metadata": {
    "collapsed": false
   },
   "outputs": [],
   "source": [
    "temp = np.arange(5000, 10001, 1)"
   ]
  },
  {
   "cell_type": "code",
   "execution_count": 82,
   "metadata": {
    "collapsed": false
   },
   "outputs": [],
   "source": [
    "plt.figure()\n",
    "plt.xlabel('T(K)')\n",
    "plt.ylabel('$\\Lambda/n_{H}n_{e}$ (ergs cm$^{3}$ s$^{-1}$)')\n",
    "plt.title('Radiative Cooling $\\Lambda$')\n",
    "plt.plot(temp, coolRate(temp), 'r')\n",
    "plt.legend\n",
    "plt.show()  "
   ]
  },
  {
   "cell_type": "code",
   "execution_count": null,
   "metadata": {
    "collapsed": true
   },
   "outputs": [],
   "source": []
  }
 ],
 "metadata": {
  "kernelspec": {
   "display_name": "Python 2",
   "language": "python",
   "name": "python2"
  },
  "language_info": {
   "codemirror_mode": {
    "name": "ipython",
    "version": 2
   },
   "file_extension": ".py",
   "mimetype": "text/x-python",
   "name": "python",
   "nbconvert_exporter": "python",
   "pygments_lexer": "ipython2",
   "version": "2.7.11"
  }
 },
 "nbformat": 4,
 "nbformat_minor": 0
}
