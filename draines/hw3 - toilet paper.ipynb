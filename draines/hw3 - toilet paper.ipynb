{
 "cells": [
  {
   "cell_type": "markdown",
   "metadata": {},
   "source": [
    "#### STDLIB"
   ]
  },
  {
   "cell_type": "code",
   "execution_count": 10,
   "metadata": {
    "collapsed": false
   },
   "outputs": [],
   "source": [
    "import numpy as np\n",
    "import matplotlib.pyplot as plt\n",
    "%matplotlib inline\n",
    "from __future__ import division\n",
    "# do we need anything else?"
   ]
  },
  {
   "cell_type": "markdown",
   "metadata": {},
   "source": [
    "#### Useful Functions/Constants for this homework\n",
    "\n",
    "_I want to add that in the future we ought to:_\n",
    "- use Astropy's `constants` package, or\n",
    "- write our own `python` file with constants **and** fuctions"
   ]
  },
  {
   "cell_type": "code",
   "execution_count": 142,
   "metadata": {
    "collapsed": false
   },
   "outputs": [
    {
     "name": "stdout",
     "output_type": "stream",
     "text": [
      "Testing: h in joules: 6.625872e-34\n"
     ]
    }
   ],
   "source": [
    "h = 4.136e-15 # Planck constant in eV s\n",
    "kb = 8.617e-5 # Boltzmann constant in eV / K\n",
    "eV_to_joules = 1.602e-19 # eV to joules conversion factor\n",
    "c_ang = 3e18 # speed of light in Angstroms / s\n",
    "c_km = 3e5 # speed of light in km / s\n",
    "\n",
    "def energy_in_eV(x, opt='lambda'):\n",
    "    if opt == 'lambda':\n",
    "        return h * c_ang / x\n",
    "    elif opt == 'nu':\n",
    "        return h * x\n",
    "\n",
    "print 'Testing: h in joules:', h * eV_to_joules\n",
    "\n",
    "lbl_ft_sz, title_ft_sz = 14, 20 # label and title font sizes"
   ]
  },
  {
   "cell_type": "markdown",
   "metadata": {},
   "source": [
    "#### Problem 1\n",
    "\n",
    "From the Lecture 6 notes, page 6, we can assume at low density $\\left( n_e \\ll 10^5 \\ \\textsf{cm}^{-3} \\right)$ that collisional de-excitation is negligible so that the line intensity ratio $I[5755]/I[6548 + 6583]$ is (keeping in mind that $[\\rm{N}II] \\lambda 5755$ is a $^1 D \\rightarrow ^1 S$ transition and $[\\rm{N}II] \\lambda 6548+6583$ are $^1 S \\rightarrow ^3 P$ transitions)\n",
    "\n",
    "$$\\frac{I[5755]}{I[6548 + 6583]} = \\frac{A_{^1 D, ^1 S}}{A_{^1 D, ^1 S} + A_{^3 P, ^1 D}} \\frac{\\Omega \\left(^3 P, ^1 S \\right)}{\\Omega \\left( ^3 P, ^1 D \\right)} \\frac{E \\left(^3 P, ^1 D\\right)}{E \\left(^1 D, ^1 S\\right)} \\exp \\left( \\left( -E \\left(^1 S \\right) + E \\left( ^1 D \\right) \\right) \\ / \\ kT \\right),$$\n",
    "\n",
    "(see pg. 210 in Draine or [here](http://www.astronomy.ohio-state.edu/~pogge/Ast871/Notes/Ionized.pdf), pg. 39, for the same equation above written slightly differently; this link comes from an OSU ISM course with superb notes.) For very high density regions in LTE, we can use eq. 18.8 from Draine:\n",
    "\n",
    "$$\\frac{I[5755]}{I[6548 + 6583]} = \\frac{g_{^1 D, ^1 S} A_{^1 D, ^1 S} E\\left(^1 D, ^1 S \\right)}{g_{^3 P, ^1 D} A_{^3 P, ^1 D} E \\left( ^3 P, ^1 D \\right)} \\exp \\left( \\left( - E \\left(^1 S \\right) + E \\left( ^1 D \\right) \\right) \\ / \\ kT \\right). $$\n",
    "\n",
    "Alternative values of Einstein $A$ coeffiecients for forbidden lines can be found [here](https://books.google.com/books/about/The_Physics_and_Dynamics_of_Planetary_Ne.html?id=xxVkZBVIZeAC), pg. 35. I _think_ the curves below are accurate; see [here](http://pulsar.sternwarte.uni-erlangen.de/wilms/teach/ism/ismchap7.pdf) for the [OIII] line ratio as a function of temperature.\n",
    "\n",
    "The critical density separates the low and high density regimes (see pg. 20 [here](http://www.astronomy.ohio-state.edu/~pogge/Ast871/Notes/Ionized.pdf) or pg. 1 in the Lecture 7 notes):\n",
    "\n",
    "$$ n_{crit} = \\frac{A_{ul}}{q_{ul}}, $$\n",
    "\n",
    "where $A_{ul}$ is the Einstein A coefficient for the transition between upper and lower levels, and $q_{ul}$ is the de-excitation rate between upper and lower levels. "
   ]
  },
  {
   "cell_type": "code",
   "execution_count": 93,
   "metadata": {
    "collapsed": false
   },
   "outputs": [
    {
     "data": {
      "image/png": "[encoded data removed]",
      "text/plain": [
       "<matplotlib.figure.Figure at 0x10c5a0850>"
      ]
     },
     "metadata": {},
     "output_type": "display_data"
    },
    {
     "name": "stdout",
     "output_type": "stream",
     "text": [
      "7.752e+04 3.269e+07\n"
     ]
    }
   ],
   "source": [
    "A_1d_1s, A_3p_1s, A_3p_1d = 1.1, 3.4e-2, 4e-3 # Einstein A coefficients\n",
    "omega_3p_1s, omega_3p_1d = 0.36, 2.99 # effective collision strengths\n",
    "\n",
    "# for the ratio of energies, we can find a weighted ratio of wavelengths - eq. from first link above, values from second link\n",
    "A_1d_3p2, A_1d_3p1 = 3e-3, 1e-3\n",
    "weight_wavelength = (A_1d_3p2 * 6583 + A_1d_3p1 * 6548) / (A_1d_3p2 + A_1d_3p1)\n",
    "e_ratio = 5755 / weight_ratio # invert as E \\propto 1 / \\lambda\n",
    "\n",
    "temps = np.linspace(5000, 20000, 501) # temperatures in K\n",
    "\n",
    "n2_line_ratio_small_density = (A_1d_1s / (A_1d_1s + A_3p_1s)) * (omega_3p_1s / omega_3p_1d) *\\\n",
    "    e_ratio * np.exp((- energy_in_eV(3063) + energy_in_eV(weight_wavelength)) / (kb * temps))\n",
    "\n",
    "g_1d_1s, g_3p_1d = 2 * 0 + 1, 2 * 2 + 1 # degeneracies\n",
    "n2_line_ratio_high_denisty = (g_1d_1s / g_3p_1d) * (A_1d_1s / A_3p_1d) * e_ratio \\\n",
    "    * np.exp((- energy_in_eV(3063) + energy_in_eV(weight_wavelength)) / (kb * temps))\n",
    "    \n",
    "# adjust LaTeX font in plots to sans-serif\n",
    "params = {'text.usetex': False, 'mathtext.fontset': 'stixsans'}\n",
    "plt.rcParams.update(params)\n",
    "    \n",
    "# plots\n",
    "#plt.semilogy(temps, .14 * np.exp(-25e3 / temps))\n",
    "plt.semilogy(temps, n2_line_ratio_small_density, color='k', label=r'$\\rm{Low \\ Density}$')\n",
    "plt.semilogy(temps, n2_line_ratio_high_denisty, color='k', linestyle='--', label=r'$\\rm{High \\ Density}$')\n",
    "plt.semilogy(temps, 1 / (6.91 * np.exp(25000 / temps)), color='maroon', label='From OSU Notes, pg. 40')\n",
    "plt.ylabel(r'$\\rm{I}[5755] \\ / \\ \\rm{I}[6548 + 6583]$', size=lbl_ft_sz)\n",
    "plt.xlabel(r'$\\rm{Temperature \\ (K)}$', size=lbl_ft_sz)\n",
    "plt.xlim(5000, 20000)\n",
    "plt.xticks(np.linspace(5000, 20000, 7))\n",
    "plt.legend(loc='best', fontsize=9, numpoints=1)\n",
    "plt.show()\n",
    "\n",
    "# critical density\n",
    "q_3p_1d = 8.629e-8 * (2.99 / 5) #* (temps * 1e-4) ** -0.5\n",
    "n_crit1 = A_3p_1d / q_3p_1d # marks transition from 3P levels to 1D levels\n",
    "n_crit2 = 1.1 / (8.629e-8 * (0.39 / 1)) # marks transition from 1D to 1S\n",
    "\n",
    "print '%.3e' % n_crit1, '%.3e' % n_crit2"
   ]
  },
  {
   "cell_type": "markdown",
   "metadata": {},
   "source": [
    "#### Problem 2\n",
    "\n",
    "Assume Doppler parameters are the same"
   ]
  },
  {
   "cell_type": "code",
   "execution_count": 157,
   "metadata": {
    "collapsed": false
   },
   "outputs": [
    {
     "data": {
      "image/png": "[encoded data removed]",
      "text/plain": [
       "<matplotlib.figure.Figure at 0x10c72ce50>"
      ]
     },
     "metadata": {},
     "output_type": "display_data"
    },
    {
     "name": "stdout",
     "output_type": "stream",
     "text": [
      "1.91612903226 1.33874239351\n",
      "Tau for this doublet ratio: 0.964127139376\n",
      "Doppler parameter for [CIV]1548 in km/s: 9.831e+00\n",
      "Doppler parameter for [CIV]1550 in km/s: 9.897e+00\n",
      "Column density in cm^-2: 8.1874412171e+13\n"
     ]
    },
    {
     "name": "stderr",
     "output_type": "stream",
     "text": [
      "/Users/Alex/Library/Enthought/Canopy_64bit/User/lib/python2.7/site-packages/ipykernel/__main__.py:20: VisibleDeprecationWarning: using a non-integer number instead of an integer will result in an error in the future\n"
     ]
    }
   ],
   "source": [
    "from scipy.interpolate import interp1d\n",
    "\n",
    "tau = [0, 0.1, 0.2, 0.3, 0.4, 0.5, 0.6, 0.8,\\\n",
    "       1.0, 1.2, 1.4, 1.6, 2., 3., 4., 6., 10, 20, 30, 40, 60, 100,\\\n",
    "      1e3, 1e4]\n",
    "\n",
    "f = [0, 0.086, .165, .24, .309, .374, .435, .545, .643, .728,\\\n",
    "        .804, .872, .986, 1.188, 1.32, 1.483, 1.66, 1.86, 1.97, 2.04,\\\n",
    "        2.14, 2.26, 2.73, 3.12]\n",
    "\n",
    "def f_tau(x):\n",
    "    c = interp1d(tau, f, kind='cubic')\n",
    "    return c(x)\n",
    "\n",
    "taus = np.linspace(0, 1e2, 1001)\n",
    "d_ratio = (1548 / 1550) * f_tau(2 * taus) / f_tau(taus)\n",
    "plt.semilogx(taus, d_ratio)\n",
    "plt.ylabel(r'$\\rm{W}(1548) \\ / \\ \\rm{W}(1550)$', size=lbl_ft_sz)\n",
    "plt.xlabel(r'$\\tau$', size=lbl_ft_sz + 3)\n",
    "plt.plot()\n",
    "plt.show()\n",
    "\n",
    "w_ratio = 132 / 98.6\n",
    "print d_ratio[1.33], w_ratio\n",
    "#print taus[np.where(abs((1548 / 1550) * f_tau(2 * taus) / f_tau(taus) - w_ratio) <= 1e-3)]\n",
    "print 'Tau for this doublet ratio:', f_tau(1.916)\n",
    "\n",
    "print 'Doppler parameter for [CIV]1548 in km/s:','%.3e' % ((c_ang / (2 * f_tau(2 * 1.916))) * (132e-3 / 1548) * 1e-13)\n",
    "print 'Doppler parameter for [CIV]1550 in km/s:','%.3e' % ((c_ang / (2 * f_tau(1.916))) * (98.6e-3 / 1550) * 1e-13)\n",
    "\n",
    "delta_nu = ((((c_ang / (2 * f_tau(1.916))) * (98.6e-3 / 1550) * 1e-13) / c_km) * (c_ang / 1550))\n",
    "col_dens = ((1.916 * 9.11e-28 * 3e10) / (np.pi * 4.8e-10 ** 2)) * ((np.sqrt(np.pi) * delta_nu) / (0.1))\n",
    "print 'Column density in cm^-2:', col_dens"
   ]
  },
  {
   "cell_type": "code",
   "execution_count": null,
   "metadata": {
    "collapsed": false
   },
   "outputs": [],
   "source": []
  },
  {
   "cell_type": "markdown",
   "metadata": {},
   "source": [
    "#### Problem 3\n",
    "\n",
    "Relevant equations are on pg. 10 of the Lecture 8 notes."
   ]
  },
  {
   "cell_type": "code",
   "execution_count": null,
   "metadata": {
    "collapsed": true
   },
   "outputs": [],
   "source": []
  }
 ],
 "metadata": {
  "kernelspec": {
   "display_name": "Python 2",
   "language": "python",
   "name": "python2"
  },
  "language_info": {
   "codemirror_mode": {
    "name": "ipython",
    "version": 2
   },
   "file_extension": ".py",
   "mimetype": "text/x-python",
   "name": "python",
   "nbconvert_exporter": "python",
   "pygments_lexer": "ipython2",
   "version": "2.7.9"
  }
 },
 "nbformat": 4,
 "nbformat_minor": 0
}
