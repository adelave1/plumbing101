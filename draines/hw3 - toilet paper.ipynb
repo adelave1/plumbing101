{
 "cells": [
  {
   "cell_type": "code",
   "execution_count": 3,
   "metadata": {
    "collapsed": false
   },
   "outputs": [
    {
     "name": "stdout",
     "output_type": "stream",
     "text": [
      "\n"
     ]
    }
   ],
   "source": [
    "import numpy as np\n",
    "import matplotlib.pyplot as plt\n",
    "%matplotlib inline\n",
    "from __future__ import division\n",
    "# do we need anything else?"
   ]
  },
  {
   "cell_type": "code",
   "execution_count": 4,
   "metadata": {
    "collapsed": false
   },
   "outputs": [
    {
     "name": "stdout",
     "output_type": "stream",
     "text": [
      "Testing: h in joules: 6.625872e-34\n"
     ]
    }
   ],
   "source": [
    "h = 4.136e-15 # Planck constant in eV s\n",
    "kb = 8.617e-5 # Boltzmann constant in eV / K\n",
    "eV_to_joules = 1.602e-19 # eV to joules conversion factor\n",
    "c_ang = 3e18 # speed of light in Angstroms\n",
    "\n",
    "def energy_in_eV(x, opt='lambda'):\n",
    "    if opt == 'lambda':\n",
    "        return h * c_ang / x\n",
    "    elif opt == 'nu':\n",
    "        return h * x\n",
    "\n",
    "print 'Testing: h in joules:', h * eV_to_joules\n",
    "\n",
    "lbl_ft_sz, title_ft_sz = 14, 20 # label and title font sizes"
   ]
  },
  {
   "cell_type": "markdown",
   "metadata": {},
   "source": [
    "#### Problem 1\n",
    "\n",
    "From the Lecture 6 notes, page 6, we can assume at low density $\\left( n_e \\ll 10^5 \\ \\textsf{cm}^{-3} \\right)$ that collisional de-excitation is negligible so that the line intensity ratio $I[5755]/I[6548 + 6583]$ is (keeping in mind that $[\\rm{N}II] \\lambda 5755$ is a $^1 D \\rightarrow ^1 S$ transition and $[\\rm{N}II] \\lambda 6548+6583$ are $^1 S \\rightarrow ^3 P$ transitions)\n",
    "\n",
    "$$\\frac{I[5755]}{I[6548 + 6583]} = \\frac{A_{^1 D, ^1 S}}{A_{^1 D, ^1 S} + A_{^3 P, ^1 D}} \\frac{\\Omega \\left(^3 P, ^1 S \\right)}{\\Omega \\left( ^3 P, ^1 D \\right)} \\frac{E \\left(^3 P, ^1 D\\right)}{E \\left(^1 D, ^1 S\\right)} \\exp \\left( \\left( -E \\left(^1 S \\right) + E \\left( ^1 D \\right) \\right) \\ / \\ kT \\right),$$\n",
    "\n",
    "(see pg. 210 in Draine or [here](http://www.astronomy.ohio-state.edu/~pogge/Ast871/Notes/Ionized.pdf), pg. 39, for the same equation above written slightly differently; this link comes from an OSU ISM course with superb notes.) For very high density regions in LTE, we can use eq. 18.8 from Draine:\n",
    "\n",
    "$$\\frac{I[5755]}{I[6548 + 6583]} = \\frac{g_{^1 D, ^1 S} A_{^1 D, ^1 S} E\\left(^1 D, ^1 S \\right)}{g_{^3 P, ^1 D} A_{^3 P, ^1 D} E \\left( ^3 P, ^1 D \\right)} \\exp \\left( \\left( - E \\left(^1 S \\right) + E \\left( ^1 D \\right) \\right) \\ / \\ kT \\right). $$\n",
    "\n",
    "Alternative values of Einstein $A$ coeffiecients for forbidden lines can be found [here](https://books.google.com/books/about/The_Physics_and_Dynamics_of_Planetary_Ne.html?id=xxVkZBVIZeAC), pg. 35. I _think_ the curves below are accurate; see [here](http://pulsar.sternwarte.uni-erlangen.de/wilms/teach/ism/ismchap7.pdf) for the [OIII] line ratio as a function of temperature.\n",
    "\n",
    "The critical density separates the low and high density regimes (see pg. 20 [here](http://www.astronomy.ohio-state.edu/~pogge/Ast871/Notes/Ionized.pdf)):\n",
    "\n",
    "$$ n_{crit} = \\frac{A_{ul}}{q_{ul}}, $$\n",
    "\n",
    "where $A_{ul}$ is the Einstein A coefficient for the transition between upper and lower levels, and $q_{ul}$ is the de-excitation rate between upper and lower levels. "
   ]
  },
  {
   "cell_type": "code",
   "execution_count": 5,
   "metadata": {
    "collapsed": false
   },
   "outputs": [
    {
     "data": {
      "image/png": "[encoded data removed]",
      "text/plain": [
       "<matplotlib.figure.Figure at 0x7f4148401810>"
      ]
     },
     "metadata": {},
     "output_type": "display_data"
    }
   ],
   "source": [
    "A_1d_1s, A_3p_1d = 1.1, 4e-3 # Einstein A coefficients\n",
    "omega_3p_1s, omega_3p_1d = 0.36, 2.99 # effective collision strengths\n",
    "\n",
    "# for the ratio of energies, we can find a weighted ratio of wavelengths - eq. from first link above, values from second link\n",
    "A_1d_3p2, A_1d_3p1 = 3e-3, 1e-3\n",
    "weight_wavelength = (A_1d_3p2 * 6583 + A_1d_3p1 * 6548) / (A_1d_3p2 + A_1d_3p1)\n",
    "e_ratio = 5755 / weight_wavelength # invert as E \\propto 1 / \\lambda\n",
    "\n",
    "temps = np.linspace(5000, 20000, 501) # temperatures in K\n",
    "\n",
    "n2_line_ratio_small_density = (A_1d_1s / (A_1d_1s + A_3p_1d)) \\\n",
    "    * (omega_3p_1s / omega_3p_1d) * e_ratio * np.exp((- energy_in_eV(3063) + energy_in_eV(weight_wavelength)) / (kb * temps))\n",
    "\n",
    "g_1d_1s, g_3p_1d = 2 * 0 + 1, 2 * 2 + 1 # degeneracies\n",
    "n2_line_ratio_high_denisty = (g_1d_1s / g_3p_1d) * (A_1d_1s / A_3p_1d) * e_ratio \\\n",
    "    * np.exp((- energy_in_eV(3063) + energy_in_eV(weight_wavelength)) / (kb * temps))\n",
    "    \n",
    "# adjust LaTeX font in plots to sans-serif\n",
    "params = {'text.usetex': False, 'mathtext.fontset': 'stixsans'}\n",
    "plt.rcParams.update(params)\n",
    "    \n",
    "# plots\n",
    "#plt.semilogy(temps, .14 * np.exp(-25e3 / temps))\n",
    "plt.semilogy(temps, n2_line_ratio_small_density, color='k', label=r'$\\rm{Low \\ Density}$')\n",
    "plt.semilogy(temps, n2_line_ratio_high_denisty, color='k', linestyle='--', label=r'$\\rm{High \\ Density}$')\n",
    "plt.semilogy(temps, 1 / (6.91 * np.exp(25000 / temps)), color='maroon', label='From OSU Notes, pg. 40')\n",
    "plt.ylabel(r'$\\rm{I}[5755] \\ / \\ \\rm{I}[6548 + 6583]$', size=lbl_ft_sz)\n",
    "plt.xlabel(r'$\\rm{Temperature \\ (K)}$', size=lbl_ft_sz)\n",
    "plt.xlim(5000, 20000)\n",
    "plt.xticks(np.linspace(5000, 20000, 7))\n",
    "plt.legend(loc='best', fontsize=9, numpoints=1)\n",
    "plt.show()"
   ]
  },
  {
   "cell_type": "code",
   "execution_count": 6,
   "metadata": {
    "collapsed": false
   },
   "outputs": [
    {
     "name": "stdout",
     "output_type": "stream",
     "text": [
      "Critical density for 3P transition: 7.752e+04\n",
      "Critical density for 1D transition: 3.541e+07\n"
     ]
    }
   ],
   "source": [
    "# N_crit = A_2_1 / q_2_1\n",
    "g_1d_3p = 5\n",
    "omega_1d_3p = 2.99\n",
    "A_1d_3p = 4e-3\n",
    "q_1d_3p = 8.629e-8 * omega_1d_3p / g_1d_3p\n",
    "\n",
    "g_1s_3p = 1\n",
    "omega_1s_3p = 0.36\n",
    "A_1s_3p = 1.1\n",
    "q_1s_3p = 8.629e-8 * omega_1s_3p / g_1s_3p\n",
    "\n",
    "def n_crit(A, q):\n",
    "    return A/q\n",
    "\n",
    "print 'Critical density for 3P transition:', '%.3e' % n_crit(A_1d_3p, q_1d_3p) \n",
    "print 'Critical density for 1D transition:', '%.3e' % n_crit(A_1s_3p, q_1s_3p)"
   ]
  },
  {
   "cell_type": "markdown",
   "metadata": {},
   "source": [
    "From ${}^3P$ to higher levels: N_crit = 7.7e+4 $cm^{-3}$\n",
    "\n",
    "From ${}^1D$ to higher levels: N_crit = 3.5e+7 $cm^{-3}$"
   ]
  },
  {
   "cell_type": "markdown",
   "metadata": {},
   "source": [
    "#### Problem 2\n",
    "\n",
    "Relevant formulae/tables are in the Lecture 8 notes. For a Gaussian profile, we can assume the lines are optically thick so that \n",
    "\n",
    "$$ \\frac{W_{\\lambda}}{\\lambda} = \\frac{\\lambda}{c} \\int_{-\\infty}^{\\infty} d\\nu \\ \\left[ 1 - \\exp \\left( - \\tau_0 \\ \\exp \\left(x^2 \\right) \\right) \\right] \\\\ = \\frac{2 \\lambda}{c} \\Delta \\nu_D \\int_{-\\infty}^{\\infty} d\\nu \\ \\left[ 1 - \\exp \\left( - \\tau_0 \\ \\exp \\left(x^2 \\right) \\right) \\right] \\\\ = \\frac{2 b}{c} F\\left(\\tau_0\\right),$$\n",
    "\n",
    "following the convention on pg. 5 of the notes. "
   ]
  },
  {
   "cell_type": "code",
   "execution_count": 7,
   "metadata": {
    "collapsed": false
   },
   "outputs": [
    {
     "name": "stderr",
     "output_type": "stream",
     "text": [
      "/home/michael/Enthought/Canopy_64bit/User/lib/python2.7/site-packages/ipykernel/__main__.py:38: DeprecationWarning: using a non-integer number instead of an integer will result in an error in the future\n"
     ]
    },
    {
     "data": {
      "text/plain": [
       "1.8703108504398673"
      ]
     },
     "execution_count": 7,
     "metadata": {},
     "output_type": "execute_result"
    },
    {
     "data": {
      "image/png": "[encoded data removed]",
      "text/plain": [
       "<matplotlib.figure.Figure at 0x7f4122314190>"
      ]
     },
     "metadata": {},
     "output_type": "display_data"
    }
   ],
   "source": [
    "# For part a, assume the doppler parameter is constant for both. We also know that T_0 depends on the\n",
    "# upward oscillator strength, thus T_2 = 2 * T_1.\n",
    "\n",
    "from scipy.interpolate import interp1d\n",
    "\n",
    "lambda_1 = 1548\n",
    "lambda_2 = 1550\n",
    "\n",
    "T_1 = [0, 0.10, 0.20, 0.30, \n",
    "           0.40, 0.50, 0.60, 0.80, \n",
    "           1.0, 1.2, 1.4, 1.6, 2.0, \n",
    "           3.0, 4.0, 6.0, 10, 20, 30, \n",
    "           40, 60, 100, 1000, 10000]\n",
    "\n",
    "F = [0.0, 0.086, 0.165, 0.240, \n",
    "        0.309, 0.374, 0.435, 0.545, \n",
    "        0.643, 0.728, 0.804, 0.872, \n",
    "        0.986, 1.188, 1.320, 1.483, \n",
    "        1.66, 1.86, 1.97, 2.04, \n",
    "        2.14, 2.26, 2.73, 3.12]\n",
    "\n",
    "def curve_of_growth(T):\n",
    "    model = interp1d(T_1, F, kind='cubic')\n",
    "    return model(T)\n",
    "\n",
    "# Interpolate the curve_of_growth.\n",
    "model = curve_of_growth(T_1)\n",
    "\n",
    "taus_list = np.linspace(0.1, 100, 1000)\n",
    "\n",
    "plt.semilogx(taus_list, lambda_1/lambda_2 * curve_of_growth(2*taus_list)/curve_of_growth(taus_list))\n",
    "plt.ylabel('W(1548 A)/W(1550 A)')\n",
    "plt.xlabel(r'$\\tau$')\n",
    "plt.title('Doublet Ratio')\n",
    "\n",
    "doublet_ratio = lambda_1/lambda_2 * curve_of_growth(2*taus_list)/curve_of_growth(taus_list)\n",
    "\n",
    "doublet_ratio[1.33] # Check what Tau is for this ratio."
   ]
  },
  {
   "cell_type": "code",
   "execution_count": 8,
   "metadata": {
    "collapsed": false
   },
   "outputs": [
    {
     "name": "stdout",
     "output_type": "stream",
     "text": [
      "Ratio of W(1548)/W1(1550): 1.33874239351\n",
      "Tau for this ratio is roughly: 1.8 - 2\n"
     ]
    }
   ],
   "source": [
    "# If we are given a ratio W(1548)/W(1550), we can look\n",
    "# at the graph and determine the Tau.\n",
    "print 'Ratio of W(1548)/W1(1550):', 132/98.6\n",
    "print 'Tau for this ratio is roughly: 1.8 - 2'"
   ]
  },
  {
   "cell_type": "code",
   "execution_count": 9,
   "metadata": {
    "collapsed": false
   },
   "outputs": [
    {
     "name": "stdout",
     "output_type": "stream",
     "text": [
      "F_1550(1.87): 9.517e-01\n",
      "F_1548(1.87): 1.290e+00\n"
     ]
    }
   ],
   "source": [
    "# Find F(T)_1550.\n",
    "print 'F_1550(1.87):', '%.3e' % curve_of_growth(1.87)\n",
    "\n",
    "# Find_F(T)_1548\n",
    "print 'F_1548(1.87):', '%.3e' % curve_of_growth(2*1.87)"
   ]
  },
  {
   "cell_type": "code",
   "execution_count": 10,
   "metadata": {
    "collapsed": false
   },
   "outputs": [
    {
     "name": "stdout",
     "output_type": "stream",
     "text": [
      "9.9084100655 km / s\n",
      "10.0371940098 km / s\n"
     ]
    }
   ],
   "source": [
    "# Find doppler parameter 'b'\n",
    "import astropy.units as u\n",
    "import astropy.constants as c\n",
    "\n",
    "b_1548= (0.132/1548) * (1/1.29) * (c.c/2)\n",
    "print b_1548.to(u.km/u.s)\n",
    "\n",
    "b_1550 = (0.0986/1550) * (1/0.95) * (c.c/2)\n",
    "print b_1550.to(u.km/u.s)"
   ]
  },
  {
   "cell_type": "code",
   "execution_count": 11,
   "metadata": {
    "collapsed": false
   },
   "outputs": [
    {
     "data": {
      "text/latex": [
       "$8.0571691 \\times 10^{13} \\; \\mathrm{\\frac{1}{cm^{2}}}$"
      ],
      "text/plain": [
       "<Quantity 80571690705552.78 1 / cm2>"
      ]
     },
     "execution_count": 11,
     "metadata": {},
     "output_type": "execute_result"
    }
   ],
   "source": [
    "import astropy.units as u\n",
    "import astropy.constants as c\n",
    "# Find the column density, 1550\n",
    "frequency = (c.c/(1550.*u.Angstrom))\n",
    "oscillator_strength = 0.1\n",
    "tau = 1.87\n",
    "#e = 4.8e-10 # in Cgs units\n",
    "#m_e = 9.109e-28 # in g\n",
    "#c = 2.998e10 # Speed of light in cm/s\n",
    "b_1550 = 10 * u.km / u.s\n",
    "\n",
    "\n",
    "def delta_nu(b, nu):\n",
    "    return (b/c.c) * nu\n",
    "\n",
    "def column_density(b, nu, tau):\n",
    "    return (tau * np.pi**(1/2) * delta_nu(b_1550, frequency)) / ((np.pi * c.e.esu**2)/(c.m_e * c.c) * oscillator_strength) \n",
    "\n",
    "tmp = column_density(b_1550, frequency, tau)\n",
    "tmp.to(1/u.cm**2)\n",
    "\n",
    "#print b_1550/c\n",
    "#print delta_nu(b_1550, frequency)\n",
    "#print (tau * m_e * c.c)/(np.pi * e**2)\n",
    "#print (tau * m_e * c.c)/(np.pi * e**2) * 10 * np.sqrt(np.pi) * delta_nu(b_1550, frequency)"
   ]
  },
  {
   "cell_type": "markdown",
   "metadata": {
    "collapsed": true
   },
   "source": [
    "# Part C: \n",
    "Consider Case 3, optically-thick Lorentzian line. The equivalent width ratio increases as square root.\n",
    "\n",
    "Consider graph 9.3, 9.2 in B. Draine. The line broadens for different b."
   ]
  },
  {
   "cell_type": "markdown",
   "metadata": {},
   "source": [
    "#### Problem 3\n",
    "\n",
    "Relevant equations are on pg. 10 of the Lecture 8 notes."
   ]
  },
  {
   "cell_type": "code",
   "execution_count": 14,
   "metadata": {
    "collapsed": false
   },
   "outputs": [
    {
     "name": "stdout",
     "output_type": "stream",
     "text": [
      "Ca Number Density: 2.042e-04\n",
      "Total electron abundance: 1.136e-04\n",
      "Electron Number Density: 1.136e-02\n",
      "Ca+ Number Density: 2.517e-01\n",
      "Ca++ Number Density: 6.472e-04\n"
     ]
    }
   ],
   "source": [
    "# We assume that the stellar abundances for the materials\n",
    "# are given from Table 1, lecture 2.\n",
    "\n",
    "n_H = 100 # Problem gives cloud has 100 H/cm^3.\n",
    "\n",
    "def rel_H(x):\n",
    "    # Relative abundance to hydrogen (which is defined as 12).\n",
    "    return 10**(x - 12)\n",
    "\n",
    "c_ab = rel_H(8.39)\n",
    "si_ab = rel_H(7.51)\n",
    "fe_ab = rel_H(7.45)\n",
    "s_ab = rel_H(7.14)\n",
    "mg_ab = rel_H(7.53)\n",
    "ca_ab = rel_H(6.31)\n",
    "\n",
    "# Assuming logarithmic solar depletion factors from table 2.12:\n",
    "\n",
    "c_de = 10**(-0.47)\n",
    "si_de = 10**(-1.31)\n",
    "mg_de = 10**(-0.81)\n",
    "s_de = 10**(0.23)\n",
    "fe_de = 10**(-2.39)\n",
    "\n",
    "# Finding Ca abundnace.\n",
    "N_ca = n_H * ca_ab\n",
    "print 'Ca Number Density:', '%.3e' % N_ca\n",
    "\n",
    "# Return electron abundance.\n",
    "def e_a(ab, de):\n",
    "    return ab * de\n",
    "\n",
    "# Total electron abundance (tea): arising from C, Si, Fe, S, Mg.\n",
    "tea = e_a(c_ab, c_de) + e_a(si_ab, si_de) + e_a(fe_ab, fe_de) + e_a(s_ab, s_de) + e_a(mg_ab, mg_de)\n",
    "print 'Total electron abundance:', '%.3e' % tea\n",
    "\n",
    "# Calculate number density of electrons.\n",
    "n_e = tea * n_H\n",
    "print 'Electron Number Density:', '%.3e' % n_e\n",
    "\n",
    "# Ionization and recombination rates for Ca, Ca+\n",
    "Ca_ion = 2.8e-10\n",
    "Ca_plus_ion = 0.018e-10\n",
    "Ca_rec = 2e-11\n",
    "Ca_plus_rec = 5e-11\n",
    "\n",
    "N_Ca_plus = (Ca_ion * N_ca) / (Ca_rec * n_e)\n",
    "print 'Ca+ Number Density:', '%.3e' % N_Ca_plus\n",
    "\n",
    "N_Ca_plus_plus = (Ca_plus_ion * N_ca) / (Ca_plus_rec * n_e)\n",
    "print 'Ca++ Number Density:', '%.3e' % N_Ca_plus_plus\n"
   ]
  },
  {
   "cell_type": "markdown",
   "metadata": {},
   "source": []
  },
  {
   "cell_type": "code",
   "execution_count": null,
   "metadata": {
    "collapsed": true
   },
   "outputs": [],
   "source": []
  }
 ],
 "metadata": {
  "kernelspec": {
   "display_name": "Python 2",
   "language": "python",
   "name": "python2"
  },
  "language_info": {
   "codemirror_mode": {
    "name": "ipython",
    "version": 2
   },
   "file_extension": ".py",
   "mimetype": "text/x-python",
   "name": "python",
   "nbconvert_exporter": "python",
   "pygments_lexer": "ipython2",
   "version": "2.7.11"
  }
 },
 "nbformat": 4,
 "nbformat_minor": 0
}
