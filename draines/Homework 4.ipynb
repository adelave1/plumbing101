{
 "cells": [
  {
   "cell_type": "markdown",
   "metadata": {},
   "source": [
    "### ISM and Fluid Dynamics\n",
    "Assignment 4 - Problem 1\n",
    "Michael Busch"
   ]
  },
  {
   "cell_type": "code",
   "execution_count": 1,
   "metadata": {
    "collapsed": true
   },
   "outputs": [],
   "source": [
    "import numpy as np\n",
    "import matplotlib.pyplot as plt\n",
    "%matplotlib inline\n",
    "\n",
    "#from astropy import \n",
    "\n",
    "from __future__ import division"
   ]
  },
  {
   "cell_type": "markdown",
   "metadata": {},
   "source": [
    "### Problem 1"
   ]
  },
  {
   "cell_type": "markdown",
   "metadata": {},
   "source": [
    "The 3-body process $H + H + H -> H_{2} + H$ forms molecular hydrogen at a rate $10^{-32}$ $n(H)^3$ $cm^6$ $s^{-1}$ per unit volume.\n",
    "\n",
    "a. At what density does this mechanism dominate interstellar $H_{2}$ formation via grain catalysis?\n",
    "\n",
    "b. Consider the case (very high density or if grains are absent) where the 3-body process dominates. If the gas is initially atomic and there is no destruction process for $H_{2}$, show that the molecular fraction: \n",
    "\n",
    "$f = 2n(H_{2})/n_{H}$, \n",
    "\n",
    "at time $t$ in a cloud of uniform density: \n",
    "\n",
    "$n_{H} = n(H) + 2n(H_{2})$, \n",
    "\n",
    "is given by:\n",
    "\n",
    "$f = 1 - (1 + 4n(H_{2})^{2}kt)^{-1/2}$, where $k = 10^{-32} cm^{6} s^{-1}$.\n",
    "\n",
    "c. At what density can the cloud reach $f=0.5$ within the age of the Universe (13.7 Gyr)?"
   ]
  },
  {
   "cell_type": "code",
   "execution_count": 8,
   "metadata": {
    "collapsed": false
   },
   "outputs": [
    {
     "name": "stdout",
     "output_type": "stream",
     "text": [
      "Dominant Density of Three Body Formation (cm^3): 3.000e+15\n",
      "As per lecture, this is roughly the limit. (10^15, in lecture.)\n"
     ]
    }
   ],
   "source": [
    "# We know from the lecture notes that for an assumed \n",
    "# temperature and density n_H. (T=100K). Since the cloud is neutral (3 body-process). \n",
    "# Assume n_H and n(H) are equal.\n",
    "\n",
    "k_f = 3e-17\n",
    "max_rate_H3 = 1e-32\n",
    "\n",
    "# Solve for n(H).\n",
    "dominant_density = k_f/max_rate_H3\n",
    "print('Dominant Density of Three Body Formation (cm^3):', '%.3e' % + dominant_density)\n",
    "print('As per lecture, this is roughly the limit. (10^15, in lecture.)')"
   ]
  },
  {
   "cell_type": "markdown",
   "metadata": {},
   "source": [
    "Part B: See attached paper."
   ]
  },
  {
   "cell_type": "code",
   "execution_count": 5,
   "metadata": {
    "collapsed": false
   },
   "outputs": [
    {
     "name": "stdout",
     "output_type": "stream",
     "text": [
      "The density that the cloud could reach is: 4.1e6 cm^-3\n"
     ]
    }
   ],
   "source": [
    "# Part C.\n",
    "\n",
    "# Solve for x, given t = 13.7 Gyr (or 4.3e17):\n",
    "# 0.5 = 1 - (1 + 4 * x^2 * 10e-32 * 4.3e17) ^ -1/2\n",
    "# Solved with Mathematica.\n",
    "\n",
    "# There are two solutions, we take the real one:\n",
    "\n",
    "print('The density that the cloud could reach is: 4.1e6 cm^-3')"
   ]
  }
 ],
 "metadata": {
  "anaconda-cloud": {},
  "kernelspec": {
   "display_name": "Python [conda root]",
   "language": "python",
   "name": "conda-root-py"
  },
  "language_info": {
   "codemirror_mode": {
    "name": "ipython",
    "version": 3
   },
   "file_extension": ".py",
   "mimetype": "text/x-python",
   "name": "python",
   "nbconvert_exporter": "python",
   "pygments_lexer": "ipython3",
   "version": "3.5.2"
  }
 },
 "nbformat": 4,
 "nbformat_minor": 1
}
