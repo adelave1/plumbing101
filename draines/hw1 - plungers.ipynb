{
 "cells": [
  {
   "cell_type": "markdown",
   "metadata": {},
   "source": [
    "### Import STDLIB"
   ]
  },
  {
   "cell_type": "code",
   "execution_count": 1,
   "metadata": {
    "collapsed": true
   },
   "outputs": [],
   "source": [
    "import numpy as np\n",
    "import matplotlib.pyplot as plt\n",
    "%matplotlib inline\n",
    "\n",
    "#from astropy import \n",
    "\n",
    "from __future__ import division"
   ]
  },
  {
   "cell_type": "markdown",
   "metadata": {},
   "source": [
    "### Problem 1"
   ]
  },
  {
   "cell_type": "code",
   "execution_count": 24,
   "metadata": {
    "collapsed": false
   },
   "outputs": [
    {
     "name": "stdout",
     "output_type": "stream",
     "text": [
      "optical depth for hv = 13.6 eV: 3780.0\n",
      "optical depth for hv = 100 eV: 10.8028460212\n",
      "optical depth for hv = 1000 eV: 0.00721094988133\n"
     ]
    }
   ],
   "source": [
    "sigma_th = 6.3e-18 # threshold cross-section\n",
    "nu_th_hz = 3e8 / 912e-10 # threshold frequency in Hz\n",
    "pc = 3e18 # 1 pc in cm\n",
    "nH = 1e2 # hydrogen atom number density, N cm^-3\n",
    "h = 6.634e-34 # Planck constant\n",
    "hz_to_ev = 4.136e-15 # conversion from Hz to eV\n",
    "\n",
    "def sigma_h(nu, freq='Hz'):\n",
    "    \"\"\"\n",
    "    Calculates hydrogen photoionization cross-section\n",
    "    using fit from Lecture 2. Accurate to within 10% for \n",
    "    h \\nu < 2 keV\n",
    "    \n",
    "    Parameters:\n",
    "    ---\n",
    "    nu: float\n",
    "        frequency\n",
    "    freq: string\n",
    "       conversion between GHz, kHz, etc.\n",
    "    \"\"\"\n",
    "    beta = 1.8\n",
    "    s = 3.2\n",
    "    \n",
    "    if freq == 'Hz':\n",
    "        conv_factor = 1 # conversion factor\n",
    "    elif freq == 'GHz':\n",
    "        conv_factor = 1e-9\n",
    "    elif freq == 'MHz':\n",
    "        conv_factor = 1e-6\n",
    "    elif freq == 'kHz':\n",
    "        conv_factor = 1e-3\n",
    "    else:\n",
    "        print 'Use something else'\n",
    "        pass\n",
    "    \n",
    "    if 'conv_factor' in locals(): # check whether conv_factor exists\n",
    "        return sigma_th * (beta * (conv_factor * nu_th_hz / nu) ** s +\\\n",
    "                          (1 - beta) * (conv_factor * nu_th_hz / nu) ** (s + 1))\n",
    "\n",
    "print 'optical depth for hv = 13.6 eV:', 2 * pc * nH * sigma_h(nu_th_hz)\n",
    "print 'optical depth for hv = 100 eV:', 2 * pc * nH * sigma_h(100 * hz_to_ev ** -1)\n",
    "print 'optical depth for hv = 1000 eV:', 2 * pc * nH * sigma_h(1000 * hz_to_ev ** -1)"
   ]
  },
  {
   "cell_type": "markdown",
   "metadata": {},
   "source": [
    "### Problem 2\n",
    "\n",
    "We write\n",
    "\n",
    "$$\\frac{dn\\left(H^+\\right)}{dt} = n(H) \\ \\xi_H - \\alpha_H \\ n_e \\ n\\left(H^+\\right),$$\n",
    "\n",
    "and setting $n(H) \\ \\xi_H = 0$, as the source of ionization is switched off at time $t = 0$, and $n_e = n\\left(H^+\\right)$, as the gas cloud is pure hydrogen. Then\n",
    "\n",
    "$$\\frac{dn\\left(H^+\\right)}{dt} = - \\alpha_H \\ n\\left(H^+\\right)^2,$$\n",
    "\n",
    "for which we solve by integrating:\n",
    "\n",
    "$$ \\frac{1}{\\alpha_H} \\int \\frac{dn\\left(H^+\\right)}{n\\left(H^+\\right)^2} = -\\int dt,$$\n",
    "\n",
    "yielding\n",
    "\n",
    "$$\\frac{1}{\\alpha_H \\ n\\left(H^+\\right)} = t$$\n",
    "$$\\Longrightarrow n\\left(H^+\\right) (t) = \\frac{1}{\\alpha_H t}.$$\n",
    "\n",
    "We have for the total H nucleus density $n_H = n\\left(H^+\\right) + n(H)$, and we write the fractional uncertainty as $\\frac{n\\left(H^+\\right)}{n(H)}$. Then to find the fractional uncertainty as a function of time, we note that\n",
    "\n",
    "$$ n(H) = n_H - n\\left(H^+\\right),$$\n",
    "\n",
    "so\n",
    "\n",
    "$$\\frac{n\\left(H^+\\right)(t)}{n(H)(t)} = \\frac{n\\left(H^+\\right) (t)}{n_H - n\\left(H^+\\right)(t)}$$"
   ]
  },
  {
   "cell_type": "code",
   "execution_count": 25,
   "metadata": {
    "collapsed": true
   },
   "outputs": [],
   "source": [
    "def alpha_h(T):\n",
    "    \"\"\"\n",
    "    Computes total radiative recombination rate as \n",
    "    a function of temperature.\n",
    "    \n",
    "    Parameters:\n",
    "    ---\n",
    "    T: float\n",
    "        temperature in degrees Kelvin\n",
    "    \"\"\"\n",
    "    return 4.2e-13 * (T * 1e-4) ** -0.73"
   ]
  },
  {
   "cell_type": "markdown",
   "metadata": {},
   "source": [
    "### Problem 3"
   ]
  },
  {
   "cell_type": "code",
   "execution_count": null,
   "metadata": {
    "collapsed": true
   },
   "outputs": [],
   "source": [
    "def alpha_b(T):\n",
    "    \"\"\"\n",
    "    Computes recombination rate as a function \n",
    "    of temperature for Case B recombination.\n",
    "    \n",
    "    Parameters:\n",
    "    ---\n",
    "    T: float\n",
    "        temperature in degrees Kelvin\n",
    "    \"\"\"\n",
    "    \n",
    "    return 2.56e-13 * (T * 1e-4) ** -0.83\n",
    "\n"
   ]
  }
 ],
 "metadata": {
  "kernelspec": {
   "display_name": "Python 2",
   "language": "python",
   "name": "python2"
  },
  "language_info": {
   "codemirror_mode": {
    "name": "ipython",
    "version": 2
   },
   "file_extension": ".py",
   "mimetype": "text/x-python",
   "name": "python",
   "nbconvert_exporter": "python",
   "pygments_lexer": "ipython2",
   "version": "2.7.9"
  }
 },
 "nbformat": 4,
 "nbformat_minor": 0
}
