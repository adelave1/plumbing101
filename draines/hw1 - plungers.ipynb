{
 "cells": [
  {
   "cell_type": "markdown",
   "metadata": {},
   "source": [
    "### Import STDLIB"
   ]
  },
  {
   "cell_type": "code",
   "execution_count": 1,
   "metadata": {
    "collapsed": true
   },
   "outputs": [],
   "source": [
    "import numpy as np\n",
    "import matplotlib.pyplot as plt\n",
    "%matplotlib inline\n",
    "\n",
    "#from astropy import \n",
    "\n",
    "from __future__ import division"
   ]
  },
  {
   "cell_type": "markdown",
   "metadata": {},
   "source": [
    "### Problem 1"
   ]
  },
  {
   "cell_type": "code",
   "execution_count": 3,
   "metadata": {
    "collapsed": false
   },
   "outputs": [
    {
     "name": "stdout",
     "output_type": "stream",
     "text": [
      "optical depth for hv = 13.6 eV: 3780.0\n",
      "optical depth for hv = 100 eV: 10.8028460212\n",
      "optical depth for hv = 1000 eV: 0.00721094988133\n"
     ]
    }
   ],
   "source": [
    "sigma_th = 6.3e-18 # threshold cross-section\n",
    "nu_th_hz = 3e8 / 912e-10 # threshold frequency in Hz\n",
    "pc = 3e18 # 1 pc in cm\n",
    "nH = 1e2 # hydrogen atom number density, N cm^-3\n",
    "h = 6.634e-34 # Planck constant\n",
    "hz_to_ev = 4.136e-15 # conversion from Hz to eV\n",
    "\n",
    "def sigma_h(nu, freq='Hz'):\n",
    "    \"\"\"\n",
    "    Calculates hydrogen photoionization cross-section\n",
    "    using fit from Lecture 2. Accurate to within 10% for \n",
    "    h \\nu < 2 keV\n",
    "    \n",
    "    Parameters:\n",
    "    ---\n",
    "    nu: float\n",
    "        frequency\n",
    "    freq: string\n",
    "       conversion between GHz, kHz, etc.\n",
    "    \"\"\"\n",
    "    beta = 1.8\n",
    "    s = 3.2\n",
    "    \n",
    "    if freq == 'Hz':\n",
    "        conv_factor = 1 # conversion factor\n",
    "    elif freq == 'GHz':\n",
    "        conv_factor = 1e-9\n",
    "    elif freq == 'MHz':\n",
    "        conv_factor = 1e-6\n",
    "    elif freq == 'kHz':\n",
    "        conv_factor = 1e-3\n",
    "    else:\n",
    "        print 'Use something else'\n",
    "        pass\n",
    "    \n",
    "    if 'conv_factor' in locals(): # check whether conv_factor exists\n",
    "        return sigma_th * (beta * (conv_factor * nu_th_hz / nu) ** s +\\\n",
    "                          (1 - beta) * (conv_factor * nu_th_hz / nu) ** (s + 1))\n",
    "\n",
    "print 'optical depth for hv = 13.6 eV:', 2 * pc * nH * sigma_h(nu_th_hz)\n",
    "print 'optical depth for hv = 100 eV:', 2 * pc * nH * sigma_h(100 * hz_to_ev ** -1)\n",
    "print 'optical depth for hv = 1000 eV:', 2 * pc * nH * sigma_h(1000 * hz_to_ev ** -1)"
   ]
  },
  {
   "cell_type": "markdown",
   "metadata": {},
   "source": [
    "### Problem 2\n",
    "\n",
    "We write from the second lecture notes\n",
    "\n",
    "$$\\frac{dn\\left(H^+\\right)}{dt} = n(H) \\ \\xi_H - \\alpha_H \\ n_e \\ n\\left(H^+\\right),$$\n",
    "\n",
    "and setting $n(H) \\ \\xi_H = 0$, as the source of ionization is switched off at time $t = 0$, and $n_e = n\\left(H^+\\right)$, as the gas cloud is pure hydrogen. Then\n",
    "\n",
    "$$\\frac{dn\\left(H^+\\right)}{dt} = - \\alpha_H \\ n\\left(H^+\\right)^2,$$\n",
    "\n",
    "for which we solve by integrating:\n",
    "\n",
    "$$ \\frac{1}{\\alpha_H} \\int \\frac{dn\\left(H^+\\right)}{n\\left(H^+\\right)^2} = -\\int dt,$$\n",
    "\n",
    "yielding\n",
    "\n",
    "$$\\frac{1}{\\alpha_H \\ n\\left(H^+\\right)} = t + c$$\n",
    "$$\\Longrightarrow n\\left(H^+\\right) (t) = \\frac{1}{\\alpha_H (t + c)}.$$\n",
    "\n",
    "where $c$ is a constant of integration. \n",
    "We have for the total H nucleus density $n_H = n\\left(H^+\\right) + n(H)$, and we write the fractional uncertainty as $\\frac{n\\left(H^+\\right)}{n(H)}$. \n",
    "Then to find the fractional uncertainty as a function of time, we note that\n",
    "\n",
    "$$ n(H) = n_H - n\\left(H^+\\right),$$\n",
    "\n",
    "so\n",
    "\n",
    "$$\\frac{n\\left(H^+\\right)}{n(H)}(t) = \\frac{n\\left(H^+\\right) (t)}{n_H - n\\left(H^+\\right)(t)},$$\n",
    "\n",
    "or\n",
    "\n",
    "$$\\frac{n\\left(H^+\\right)}{n(H)}(t) = \\frac{1}{\\alpha_H n_H (t + c) - 1}.$$\n",
    "\n",
    "Then for the values given, $n_H = 50$ cm$^{-3}$ and $T = 10^4$ K, we have $\\alpha_H = 4.2 \\times 10^{-13}$ cm$^3$ s$^{-1} \\ \n",
    "\\left( \\frac{T}{10^4 \\ \\textrm{K}} \\right)^{-0.73} = 4.2 \\times 10^{-13}$ cm$^3$ s$^{-1}$. Then\n",
    "\n",
    "$$\\frac{n\\left(H^+\\right)}{n(H)}(t) = \\frac{1}{2.1 \\times 10^{-11} (t+c) - 1}.$$\n",
    "\n",
    "As the cloud starts off fully ionized, then at $t=0, \\frac{n\\left(H^+\\right)}{n(H)}(0) = 1,$ so we solve for $c$:\n",
    "\\begin{align*} 1 &= \\frac{1}{2.1 \\times 10^{-11} \\ c - 1} \\\\\n",
    "&= 2.1 \\times 10^{-11} \\ c - 1 \\\\\n",
    "&\\Longrightarrow c = \\frac{2}{2.1 \\times 10^{-11}} = 9.52 \\times 10^{10}, \n",
    "\\end{align*} \n",
    "so \n",
    "\n",
    "$$\\frac{n\\left(H^+\\right)}{n(H)}(t) = \\frac{1}{2.1 \\times 10^{-11} \\left(t + 9.52 \\times 10^{10}\\right) - 1},$$\n",
    "\n",
    "for $t$ in seconds. "
   ]
  },
  {
   "cell_type": "code",
   "execution_count": 4,
   "metadata": {
    "collapsed": true
   },
   "outputs": [],
   "source": [
    "def alpha_h(T):\n",
    "    \"\"\"\n",
    "    Computes total radiative recombination rate as \n",
    "    a function of temperature.\n",
    "    \n",
    "    Parameters:\n",
    "    ---\n",
    "    T: float\n",
    "        temperature in degrees Kelvin\n",
    "    \"\"\"\n",
    "    return 4.2e-13 * (T * 1e-4) ** -0.73"
   ]
  },
  {
   "cell_type": "markdown",
   "metadata": {},
   "source": [
    "### Problem 3"
   ]
  },
  {
   "cell_type": "code",
   "execution_count": 25,
   "metadata": {
    "collapsed": false
   },
   "outputs": [
    {
     "name": "stdout",
     "output_type": "stream",
     "text": [
      "Part A)\n",
      "Stromgren radius in pc for O5V star: 8.81291584105\n",
      "Stromgren radius in pc for O6V star: 7.28419370259\n",
      "Stromgren radius in pc for O7V star: 5.96977404229\n",
      "Stromgren radius in pc for O8V star: 4.63316209645\n",
      "Stromgren radius in pc for O9V star: 3.40286924671 \n",
      "\n",
      "Part B)\n",
      "Width of transition region in pc: 0.00205475933631 \n",
      "\n",
      "Part C)\n",
      "Dust optical depth for O5V star: 2.72319099488\n",
      "Dust optical depth for O6V star: 2.2508158541\n",
      "Dust optical depth for O7V star: 1.84466017907\n",
      "Dust optical depth for O8V star: 1.4316470878\n",
      "Dust optical depth for O9V star: 1.05148659723\n"
     ]
    }
   ],
   "source": [
    "inv_pc = (3.09e18) ** -1 # 1 / pc in cm^-1\n",
    "\n",
    "def alpha_b(T):\n",
    "    \"\"\"\n",
    "    Computes recombination rate as a function \n",
    "    of temperature for Case B recombination.\n",
    "    \n",
    "    Parameters:\n",
    "    ---\n",
    "    T: float\n",
    "        temperature in degrees Kelvin\n",
    "    \"\"\"\n",
    "    \n",
    "    return 2.56e-13 * (T * 1e-4) ** -0.83\n",
    "\n",
    "def stromgren(Q0, nH, T):\n",
    "    \"\"\"\n",
    "    Computes Strömgren radius for given rate of emission Q0,\n",
    "    total H nucleus density nH, and temperature T.\n",
    "    \n",
    "    Returns output in cm.\n",
    "    \"\"\"\n",
    "    \n",
    "    #four_pi = 4 * np.pi\n",
    "    #num = 3 * Q0\n",
    "    #denom = four_pi * alpha_b(T) * nH ** 2\n",
    "    return 9.77e18 * (Q0 * 1e-49) ** (1/3) * (nH * 1e-2) ** (-2/3) * (T * 1e-4) ** 0.28\n",
    "\n",
    "print 'Part A)'\n",
    "print 'Stromgren radius in pc for O5V star:', stromgren(10 ** 49.22, 50, 40860) * inv_pc\n",
    "print 'Stromgren radius in pc for O6V star:', stromgren(10 ** 48.99, 50, 38870) * inv_pc\n",
    "print 'Stromgren radius in pc for O7V star:', stromgren(10 ** 48.75, 50, 36870) * inv_pc\n",
    "print 'Stromgren radius in pc for O8V star:', stromgren(10 ** 48.44, 50, 34880) * inv_pc\n",
    "print 'Stromgren radius in pc for O9V star:', stromgren(10 ** 48.06, 50, 32830) * inv_pc, '\\n'\n",
    "\n",
    "print 'Part B)'\n",
    "print 'Width of transition region in pc:', 2 / (sigma_th * 50) * inv_pc, '\\n'\n",
    "\n",
    "alpha_dust = 2e-21 * 50 # dust absorption coefficient\n",
    "\n",
    "print 'Part C)'\n",
    "print 'Dust optical depth for O5V star:', stromgren(10 ** 49.22, 50, 40860) * alpha_dust\n",
    "print 'Dust optical depth for O6V star:', stromgren(10 ** 48.99, 50, 38870) * alpha_dust\n",
    "print 'Dust optical depth for O7V star:', stromgren(10 ** 48.75, 50, 36870) * alpha_dust\n",
    "print 'Dust optical depth for O8V star:', stromgren(10 ** 48.44, 50, 34880) * alpha_dust\n",
    "print 'Dust optical depth for O9V star:', stromgren(10 ** 48.06, 50, 32830) * alpha_dust"
   ]
  },
  {
   "cell_type": "code",
   "execution_count": null,
   "metadata": {
    "collapsed": false
   },
   "outputs": [],
   "source": []
  },
  {
   "cell_type": "code",
   "execution_count": null,
   "metadata": {
    "collapsed": true
   },
   "outputs": [],
   "source": []
  }
 ],
 "metadata": {
  "kernelspec": {
   "display_name": "Python 2",
   "language": "python",
   "name": "python2"
  },
  "language_info": {
   "codemirror_mode": {
    "name": "ipython",
    "version": 2
   },
   "file_extension": ".py",
   "mimetype": "text/x-python",
   "name": "python",
   "nbconvert_exporter": "python",
   "pygments_lexer": "ipython2",
   "version": "2.7.9"
  }
 },
 "nbformat": 4,
 "nbformat_minor": 0
}
